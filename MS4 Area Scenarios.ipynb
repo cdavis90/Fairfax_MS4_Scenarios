{
 "cells": [
  {
   "cell_type": "code",
   "execution_count": 2,
   "metadata": {},
   "outputs": [],
   "source": [
    "# Import Packages\n",
    "import sys, os\n",
    "import pandas as pd\n",
    "import geopandas as gpd\n",
    "import seaborn as sns\n",
    "import numpy as np\n",
    "import matplotlib.pyplot as plt\n",
    "import math\n",
    "import json\n",
    "import plotly.graph_objects as go\n",
    "import plotly.express as px\n",
    "from plotly.offline import iplot\n",
    "from scipy import stats\n",
    "from ipyleaflet import (Map, GeoData, basemaps, WidgetControl, GeoJSON,\n",
    " LayersControl, Icon, Marker,basemap_to_tiles, Choropleth,\n",
    " MarkerCluster, Heatmap,SearchControl, \n",
    " FullScreenControl, LayerGroup, LegendControl)\n",
    "from ipywidgets import Text, HTML, widgets, interactive, HBox, VBox\n",
    "from branca.colormap import linear\n",
    "%matplotlib inline"
   ]
  },
  {
   "cell_type": "markdown",
   "metadata": {},
   "source": [
    "# Size and Extent of Fairfax County's Municipal Separate Storm Sewer (MS4)"
   ]
  },
  {
   "cell_type": "markdown",
   "metadata": {},
   "source": [
    "Fairfax County's MS4 permit requires the County to map the `MS4 service area` and each `MS4 outfall`. Wood has identified over 10,000 terminal outfalls in the County, of which over 7,000 are the County's responsibility. The drainage areas to each MS4 outfall are delineated using an automated approach. This approach uses a hydrologically conditioned Digital Elevation Model (DEM) that incorporates StormNet to enforce subsurface drainage networks. This process is revisited annually to incorporate updates to StormNet and is documented in further detail in a SOP.\n",
    "\n",
    "**MS4 outfall**\n",
    ": the terminal point of manmade infrastructure that discharges to a water of the state or water of the US. Manmade infrastructure includes earthen ditches maintained to convey stormwater flow. \n",
    "\n",
    "**<font color=green>All MS4 drainage areas</font>**\n",
    ": All the area draining to each MS4 outfall.\n",
    "\n",
    "**<font color=red>MS4 service area</font>**\n",
    ": Area draining to each County MS4 outfall, _except_ for excluded lands such as:\n",
    "- VPDES permittees\n",
    "- Other MS4 permittees (ex. VDOT)\n",
    "- Forested lands (Note: the County chose to _not exclude_ Forested Lands from the MS4 service area)"
   ]
  },
  {
   "cell_type": "markdown",
   "metadata": {},
   "source": [
    "The map below shows three layers/geometries that the County can be evaluated on:\n",
    "1. <font color=red>MS4 service area</font>\n",
    "2. <font color=green>All MS4 drainage areas</font>\n",
    "3. <font color=blue>The entire County</font>"
   ]
  },
  {
   "cell_type": "code",
   "execution_count": 3,
   "metadata": {},
   "outputs": [],
   "source": [
    "Drainage_Areas = gpd.read_file(\"All_Drainage_Areas.geojson\", driver=\"GeoJSON\")\n",
    "Drainage_Areas = Drainage_Areas.rename(columns={\"STORMNET_I\":\"STORMNET_ID\"})"
   ]
  },
  {
   "cell_type": "code",
   "execution_count": 4,
   "metadata": {},
   "outputs": [],
   "source": [
    "Service_Areas = gpd.read_file(\"County_MS4_Service_Areas_Fea.geojson\", driver=\"GeoJSON\")\n",
    "Service_Areas = Service_Areas.rename(columns={\"STORMNET_I\":\"STORMNET_ID\"})"
   ]
  },
  {
   "cell_type": "code",
   "execution_count": 5,
   "metadata": {},
   "outputs": [],
   "source": [
    "County = gpd.read_file(\"https://opendata.arcgis.com/datasets/58cf8abd870e47aeb1be8911983d2d44_15.geojson\")"
   ]
  },
  {
   "cell_type": "code",
   "execution_count": 6,
   "metadata": {},
   "outputs": [
    {
     "data": {
      "application/vnd.jupyter.widget-view+json": {
       "model_id": "f9a9e6d7ff214d5e9066ad45691edf4e",
       "version_major": 2,
       "version_minor": 0
      },
      "text/plain": [
       "Map(center=[38.8554638, -77.275734], controls=(ZoomControl(options=['position', 'zoom_in_text', 'zoom_in_title…"
      ]
     },
     "metadata": {},
     "output_type": "display_data"
    }
   ],
   "source": [
    "center = (38.8554638, -77.2757340)\n",
    "m = Map(center=center, zoom=10)\n",
    "\n",
    "geodata_SA = GeoData(geo_dataframe = Service_Areas,\n",
    "                  style={'color': 'black', 'fillColor': '#eb1b0c', 'opacity':0.03, 'weight':1.9, 'dashArray':'2', 'fillOpacity':0.6},\n",
    "                         hover_style={'fillColor': '#b08a3e', 'fillOpacity': 0.8},\n",
    "                                      name = 'MS4 Service Area')\n",
    "geodata_DA = GeoData(geo_dataframe = Drainage_Areas,\n",
    "                  style={'color': 'black', 'fillColor': '#2deb0c', 'opacity':0.03, 'weight':1.9, 'dashArray':'2', 'fillOpacity':0.6},\n",
    "                         hover_style={'fillColor': '#b08a3e', 'fillOpacity': 0.8},\n",
    "                                      name = 'All Drainage Areas')\n",
    "geodata_County = GeoData(geo_dataframe = County,\n",
    "                  style={'color': 'black', 'fillColor': '#053ef7', 'opacity':0.03, 'weight':1.9, 'dashArray':'2', 'fillOpacity':0.2},\n",
    "                         hover_style={'fillColor': '#b08a3e', 'fillOpacity': 0.8},\n",
    "                                      name = 'County')\n",
    "\n",
    "m.add_layer(geodata_SA)\n",
    "m.add_layer(geodata_DA)\n",
    "m.add_layer(geodata_County)\n",
    "\n",
    "search = SearchControl(position=\"topleft\", \n",
    "                       url=\n",
    "                       'https://nominatim.openstreetmap.org/search?format=json&q={s}',\n",
    "                       zoom=14,\n",
    "                       property_name='display_name'\n",
    "                      )\n",
    "m.add_control(search)\n",
    "control = FullScreenControl()\n",
    "m.add_control(control)\n",
    "m.add_control(LayersControl())\n",
    "legend = LegendControl({\"MS4 Service Area\":\"#eb1b0c\", \"All Drainage Areas\":\"#2deb0c\", \"County\":\"#053ef7\"}, name=\"Legend\", position=\"bottomright\")\n",
    "m.add_control(legend)\n",
    "\n",
    "m"
   ]
  },
  {
   "cell_type": "code",
   "execution_count": 7,
   "metadata": {},
   "outputs": [],
   "source": [
    "MS4_Scenarios = pd.read_csv(\"MS4_Scenarios.csv\")\n",
    "MS4_Scenarios = MS4_Scenarios.iloc[0:3]"
   ]
  },
  {
   "cell_type": "markdown",
   "metadata": {},
   "source": [
    "The chart below depicts three stacked bars. Each bar corresponds to a polygon geometry displayed in the map above. Within each geometry (ex. MS4 service area ~ current MS4) the area can be broken down into three categories:\n",
    "1. Impervious Area\n",
    "2. Pervious Area\n",
    "3. Forest within the Pervious Area (this is a subset of #2)\n",
    "\n",
    "*Note: Excluded Lands (other than forest) have been removed from each geometry*"
   ]
  },
  {
   "cell_type": "code",
   "execution_count": 8,
   "metadata": {},
   "outputs": [],
   "source": [
    "MS4_Scenarios_AC = MS4_Scenarios[['Scenarios','Impervious Area', 'Pervious Area', 'Forest in Pervious Area']]\n",
    "MS4_Scenarios_AC = pd.melt(MS4_Scenarios_AC, id_vars = ['Scenarios'])"
   ]
  },
  {
   "cell_type": "code",
   "execution_count": 9,
   "metadata": {},
   "outputs": [
    {
     "data": {
      "application/vnd.jupyter.widget-view+json": {
       "model_id": "f33d6ff53971429dade4ff4223c83150",
       "version_major": 2,
       "version_minor": 0
      },
      "text/plain": [
       "FigureWidget({\n",
       "    'data': [{'alignmentgroup': 'True',\n",
       "              'hovertemplate': ('Land Cover Type=Imperv…"
      ]
     },
     "metadata": {},
     "output_type": "display_data"
    }
   ],
   "source": [
    "fig_bar = px.bar(MS4_Scenarios_AC, x='Scenarios', y='value', color='variable', color_discrete_sequence =['red','blue','green'],\n",
    "             labels={\n",
    "                     \"Scenarios\": \"MS4 Responsibility Scenarios\",\n",
    "                     \"value\": \"Acres\",\n",
    "                     \"variable\": \"Land Cover Type\"\n",
    "                 },\n",
    "             title='MS4 With Excluded Lands Removed')\n",
    "\n",
    "f1 = go.FigureWidget(fig_bar)\n",
    "f1"
   ]
  },
  {
   "cell_type": "code",
   "execution_count": 17,
   "metadata": {},
   "outputs": [
    {
     "data": {
      "text/html": [
       "<div>\n",
       "<style scoped>\n",
       "    .dataframe tbody tr th:only-of-type {\n",
       "        vertical-align: middle;\n",
       "    }\n",
       "\n",
       "    .dataframe tbody tr th {\n",
       "        vertical-align: top;\n",
       "    }\n",
       "\n",
       "    .dataframe thead th {\n",
       "        text-align: right;\n",
       "    }\n",
       "</style>\n",
       "<table border=\"1\" class=\"dataframe\">\n",
       "  <thead>\n",
       "    <tr style=\"text-align: right;\">\n",
       "      <th></th>\n",
       "      <th>Scenarios</th>\n",
       "      <th>Impervious Area</th>\n",
       "      <th>Pervious Area</th>\n",
       "      <th>Forest in Pervious Area</th>\n",
       "    </tr>\n",
       "  </thead>\n",
       "  <tbody>\n",
       "    <tr>\n",
       "      <th>0</th>\n",
       "      <td>Current MS4</td>\n",
       "      <td>21,012.45</td>\n",
       "      <td>50,839.16</td>\n",
       "      <td>29,887.81</td>\n",
       "    </tr>\n",
       "    <tr>\n",
       "      <th>1</th>\n",
       "      <td>Drainage To All County Outfalls Of Any Ownership</td>\n",
       "      <td>42,867.46</td>\n",
       "      <td>77,572.75</td>\n",
       "      <td>44,194.92</td>\n",
       "    </tr>\n",
       "    <tr>\n",
       "      <th>2</th>\n",
       "      <td>Entire County</td>\n",
       "      <td>56,494.71</td>\n",
       "      <td>203,828.50</td>\n",
       "      <td>69,381.93</td>\n",
       "    </tr>\n",
       "  </tbody>\n",
       "</table>\n",
       "</div>"
      ],
      "text/plain": [
       "                                          Scenarios Impervious Area  \\\n",
       "0                                       Current MS4      21,012.45    \n",
       "1  Drainage To All County Outfalls Of Any Ownership      42,867.46    \n",
       "2                                     Entire County      56,494.71    \n",
       "\n",
       "  Pervious Area Forest in Pervious Area  \n",
       "0    50,839.16               29,887.81   \n",
       "1    77,572.75               44,194.92   \n",
       "2   203,828.50               69,381.93   "
      ]
     },
     "execution_count": 17,
     "metadata": {},
     "output_type": "execute_result"
    }
   ],
   "source": [
    "MS4_Scenarios[['Scenarios','Impervious Area', 'Pervious Area', 'Forest in Pervious Area']]"
   ]
  },
  {
   "cell_type": "markdown",
   "metadata": {},
   "source": [
    "The next chart displays the `Excluded Lands + Forest`. Each bar on this chart also corresponds with a geometry; however, the geometry is slightly different than before. Instead of using the MS4 service area for the \"Current MS4\", we use County drainage areas. The County drainage areas do not have excluded lands removed - such as the VDOT MS4/ROW. \n",
    "\n",
    "Each bar shows the excluded lands present within its geometry.\n",
    "\n",
    "*Note: Gif below displays the difference between 4 relevant geometries - All Drainage Areas, County Drainage Areas, the MS4 Service Area, and the entire County.*"
   ]
  },
  {
   "cell_type": "code",
   "execution_count": 22,
   "metadata": {},
   "outputs": [
    {
     "data": {
      "text/html": [
       "<img src=\"https://media.giphy.com/media/XSICRHtziK2jKnlrwr/giphy.gif\"/>"
      ],
      "text/plain": [
       "<IPython.core.display.Image object>"
      ]
     },
     "execution_count": 22,
     "metadata": {},
     "output_type": "execute_result"
    }
   ],
   "source": [
    "from IPython.display import Image\n",
    "Image(url='https://media.giphy.com/media/XSICRHtziK2jKnlrwr/giphy.gif')"
   ]
  },
  {
   "cell_type": "code",
   "execution_count": 10,
   "metadata": {},
   "outputs": [
    {
     "data": {
      "text/html": [
       "<div>\n",
       "<style scoped>\n",
       "    .dataframe tbody tr th:only-of-type {\n",
       "        vertical-align: middle;\n",
       "    }\n",
       "\n",
       "    .dataframe tbody tr th {\n",
       "        vertical-align: top;\n",
       "    }\n",
       "\n",
       "    .dataframe thead th {\n",
       "        text-align: right;\n",
       "    }\n",
       "</style>\n",
       "<table border=\"1\" class=\"dataframe\">\n",
       "  <thead>\n",
       "    <tr style=\"text-align: right;\">\n",
       "      <th></th>\n",
       "      <th>Scenarios</th>\n",
       "      <th>VDOT</th>\n",
       "      <th>Other MS4s</th>\n",
       "      <th>VPDES Permitees</th>\n",
       "      <th>Total Forest</th>\n",
       "    </tr>\n",
       "  </thead>\n",
       "  <tbody>\n",
       "    <tr>\n",
       "      <th>0</th>\n",
       "      <td>Current MS4</td>\n",
       "      <td>12973.30102</td>\n",
       "      <td>369.190364</td>\n",
       "      <td>311.178562</td>\n",
       "      <td>35837.63853</td>\n",
       "    </tr>\n",
       "    <tr>\n",
       "      <th>1</th>\n",
       "      <td>Drainage To All County Outfalls Of Any Ownership</td>\n",
       "      <td>18793.31833</td>\n",
       "      <td>1878.809257</td>\n",
       "      <td>970.206672</td>\n",
       "      <td>49777.84591</td>\n",
       "    </tr>\n",
       "    <tr>\n",
       "      <th>2</th>\n",
       "      <td>Entire County</td>\n",
       "      <td>24483.20377</td>\n",
       "      <td>4747.520370</td>\n",
       "      <td>3462.219218</td>\n",
       "      <td>142877.96330</td>\n",
       "    </tr>\n",
       "  </tbody>\n",
       "</table>\n",
       "</div>"
      ],
      "text/plain": [
       "                                          Scenarios         VDOT   Other MS4s  \\\n",
       "0                                       Current MS4  12973.30102   369.190364   \n",
       "1  Drainage To All County Outfalls Of Any Ownership  18793.31833  1878.809257   \n",
       "2                                     Entire County  24483.20377  4747.520370   \n",
       "\n",
       "   VPDES Permitees  Total Forest  \n",
       "0       311.178562   35837.63853  \n",
       "1       970.206672   49777.84591  \n",
       "2      3462.219218  142877.96330  "
      ]
     },
     "execution_count": 10,
     "metadata": {},
     "output_type": "execute_result"
    }
   ],
   "source": [
    "MS4_Scenarios_Removed = pd.read_csv(\"MS4_Scenarios_Removed.csv\")"
   ]
  },
  {
   "cell_type": "code",
   "execution_count": 11,
   "metadata": {},
   "outputs": [],
   "source": [
    "MS4_Scenarios_Removed_melt = pd.melt(MS4_Scenarios_Removed, id_vars = ['Scenarios'], value_vars = ['VDOT', 'Other MS4s', 'VPDES Permitees', 'Total Forest'])"
   ]
  },
  {
   "cell_type": "code",
   "execution_count": 12,
   "metadata": {},
   "outputs": [
    {
     "data": {
      "application/vnd.jupyter.widget-view+json": {
       "model_id": "b0e9474b2616466288657d44c9b3b77a",
       "version_major": 2,
       "version_minor": 0
      },
      "text/plain": [
       "FigureWidget({\n",
       "    'data': [{'alignmentgroup': 'True',\n",
       "              'hovertemplate': ('Potentially Excluded L…"
      ]
     },
     "metadata": {},
     "output_type": "display_data"
    }
   ],
   "source": [
    "fig_bar1 = px.bar(MS4_Scenarios_Removed_melt, x='Scenarios', y='value', color='variable', color_discrete_sequence =['orange','blue','red','green'],\n",
    "             labels={\n",
    "                     \"Scenarios\": \"MS4 Responsibility Scenarios\",\n",
    "                     \"value\": \"Acres\",\n",
    "                     \"variable\": \"Potentially Excluded Lands\"\n",
    "                 },\n",
    "             title='Excluded Lands + Forest')\n",
    "\n",
    "f2 = go.FigureWidget(fig_bar1)\n",
    "f2"
   ]
  },
  {
   "cell_type": "code",
   "execution_count": null,
   "metadata": {},
   "outputs": [],
   "source": [
    "MS4_Scenarios_Removed"
   ]
  },
  {
   "cell_type": "markdown",
   "metadata": {},
   "source": [
    "The County's MS4 permit will require it to reduce 100% of the L2 Scoping Run POC reductions required for existing sources as of June 30, 2009 by the end of its third permit cycle. Table 3b from the Chesapeake Bay TMDL Guidance can be used to estimate the scope of these required reductions within the Potomac River Basin. \n",
    "\n",
    "Impervious and pervious area estimates for the three geometries can be plugged into the column`Land served by MS4 (2009)` to estimate what reductions would be required under different MS4 size and extent scenarios. The results are shown in the interactive chart below. \n",
    "\n",
    "The dropdown menu allows the user to select different POC."
   ]
  },
  {
   "cell_type": "markdown",
   "metadata": {},
   "source": [
    "### Table 3b. Current MS4\n",
    "#### Calculation Sheet for Estimating Existing Source Loads and Reduction Requirements for the Potomac River Basin"
   ]
  },
  {
   "cell_type": "markdown",
   "metadata": {},
   "source": [
    "| Pollutant | Subsource | Loading rate (lbs/ac/yr) | Land served by MS4 (2009) | Load (lbs/yr) | L2 Required Reduction | 100% Cumulative Reduction Required (lbs/yr)\n",
    "| :---------: | ----------- | :---------: | :---------: |  :---------: |  :---------: | :---------: |\n",
    "| TN | Regulated impervious | 16.86 | 21,012.45 | 354,269.91 | 9% | 31,884.29\n",
    "| TN | Regulated pervious |10.07 | 50,839.16 | 511,950.34 | 6% | 30,717.02\n",
    "| TP | Regulated impervious | 1.62 | 21,012.45 | 34,040.17 | 16% | 5,446.43\n",
    "| TP | Regulated pervious |0.41 | 50,839.16 | 20,844.06 | 7.25% | 1,511.19\n",
    "| TSS | Regulated impervious | 1,171.32 | 21,012.45 | 24,612,302.93 | 20% | 4,922,460.59\n",
    "| TSS | Regulated pervious |175.8 | 50,839.16 | 8,937,524.33| 7.25% | 782,033.38"
   ]
  },
  {
   "cell_type": "code",
   "execution_count": 13,
   "metadata": {},
   "outputs": [
    {
     "data": {
      "text/html": [
       "<div>\n",
       "<style scoped>\n",
       "    .dataframe tbody tr th:only-of-type {\n",
       "        vertical-align: middle;\n",
       "    }\n",
       "\n",
       "    .dataframe tbody tr th {\n",
       "        vertical-align: top;\n",
       "    }\n",
       "\n",
       "    .dataframe thead th {\n",
       "        text-align: right;\n",
       "    }\n",
       "</style>\n",
       "<table border=\"1\" class=\"dataframe\">\n",
       "  <thead>\n",
       "    <tr style=\"text-align: right;\">\n",
       "      <th></th>\n",
       "      <th>Scenarios</th>\n",
       "      <th>TN</th>\n",
       "      <th>TP</th>\n",
       "      <th>TSS</th>\n",
       "    </tr>\n",
       "  </thead>\n",
       "  <tbody>\n",
       "    <tr>\n",
       "      <th>0</th>\n",
       "      <td>Current MS4</td>\n",
       "      <td>62,601.31</td>\n",
       "      <td>6,957.62</td>\n",
       "      <td>5,704,493.97</td>\n",
       "    </tr>\n",
       "    <tr>\n",
       "      <th>1</th>\n",
       "      <td>Drainage To All County Outfalls Of Any Ownership</td>\n",
       "      <td>111,916.53</td>\n",
       "      <td>13,417.09</td>\n",
       "      <td>11,235,564.70</td>\n",
       "    </tr>\n",
       "    <tr>\n",
       "      <th>2</th>\n",
       "      <td>Entire County</td>\n",
       "      <td>208,878.25</td>\n",
       "      <td>20,702.23</td>\n",
       "      <td>16,370,068.97</td>\n",
       "    </tr>\n",
       "  </tbody>\n",
       "</table>\n",
       "</div>"
      ],
      "text/plain": [
       "                                          Scenarios            TN  \\\n",
       "0                                       Current MS4    62,601.31    \n",
       "1  Drainage To All County Outfalls Of Any Ownership   111,916.53    \n",
       "2                                     Entire County   208,878.25    \n",
       "\n",
       "            TP              TSS  \n",
       "0    6,957.62     5,704,493.97   \n",
       "1   13,417.09    11,235,564.70   \n",
       "2   20,702.23    16,370,068.97   "
      ]
     },
     "execution_count": 13,
     "metadata": {},
     "output_type": "execute_result"
    }
   ],
   "source": [
    "MS4_Scenarios_POC = MS4_Scenarios[['Scenarios','TN', 'TP', 'TSS']]"
   ]
  },
  {
   "cell_type": "code",
   "execution_count": 14,
   "metadata": {},
   "outputs": [],
   "source": [
    "MS4_Scenarios_POC = MS4_Scenarios_POC.set_index(['Scenarios'])"
   ]
  },
  {
   "cell_type": "code",
   "execution_count": 15,
   "metadata": {
    "scrolled": false
   },
   "outputs": [
    {
     "data": {
      "application/vnd.jupyter.widget-view+json": {
       "model_id": "71a210696538478c865896913ae6a153",
       "version_major": 2,
       "version_minor": 0
      },
      "text/plain": [
       "FigureWidget({\n",
       "    'data': [{'name': 'TN',\n",
       "              'type': 'bar',\n",
       "              'uid': 'b54cdc81-2d46-44…"
      ]
     },
     "metadata": {},
     "output_type": "display_data"
    }
   ],
   "source": [
    "fig = go.Figure()\n",
    "\n",
    "for column in MS4_Scenarios_POC.columns.to_list():\n",
    "    fig.add_trace(\n",
    "        go.Bar(\n",
    "            x = MS4_Scenarios_POC.index,\n",
    "            y = MS4_Scenarios_POC[column],\n",
    "            name = column\n",
    "        )\n",
    "    )\n",
    "  \n",
    "fig.update_layout(\n",
    "    updatemenus=[go.layout.Updatemenu(\n",
    "        active=0,\n",
    "        buttons=list(\n",
    "            [dict(label = 'All',\n",
    "                  method = 'update',\n",
    "                  args = [{'visible': [True, True, True]},\n",
    "                          {'title': 'All',\n",
    "                           'showlegend':True}]),\n",
    "            dict(label = 'TN',\n",
    "                  method = 'update',\n",
    "                  args = [{'visible': [True, False, False]},\n",
    "                          {'title': 'TN',\n",
    "                           'showlegend':True}]),\n",
    "             dict(label = 'TP',\n",
    "                  method = 'update',\n",
    "                  args = [{'visible': [False, True, False]}, # the index of True aligns with the indices of plot traces\n",
    "                          {'title': 'TP',\n",
    "                           'showlegend':True}]),\n",
    "             dict(label = 'TSS',\n",
    "                  method = 'update',\n",
    "                  args = [{'visible': [False, False, True]},\n",
    "                          {'title': 'TSS',\n",
    "                           'showlegend':True}]),\n",
    "            ])\n",
    "        )\n",
    "    ])\n",
    "\n",
    "f2 = go.FigureWidget(fig)\n",
    "f2\n",
    "\n",
    "#fig.show()"
   ]
  },
  {
   "cell_type": "code",
   "execution_count": null,
   "metadata": {},
   "outputs": [],
   "source": [
    "MS4_Scenarios_POC"
   ]
  }
 ],
 "metadata": {
  "kernelspec": {
   "display_name": "Python 3",
   "language": "python",
   "name": "python3"
  },
  "language_info": {
   "codemirror_mode": {
    "name": "ipython",
    "version": 3
   },
   "file_extension": ".py",
   "mimetype": "text/x-python",
   "name": "python",
   "nbconvert_exporter": "python",
   "pygments_lexer": "ipython3",
   "version": "3.8.5"
  }
 },
 "nbformat": 4,
 "nbformat_minor": 4
}
